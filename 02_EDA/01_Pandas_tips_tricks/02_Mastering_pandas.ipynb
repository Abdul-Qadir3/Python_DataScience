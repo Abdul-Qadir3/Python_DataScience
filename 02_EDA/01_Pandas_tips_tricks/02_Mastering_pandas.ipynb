{
 "cells": [
  {
   "cell_type": "markdown",
   "metadata": {},
   "source": [
    "## ***Rows*** Also Called:-\n",
    "#### Records, Observations, Instances, Entries, Data points\n",
    "\n",
    "## ***Columns*** Also Called:-\n",
    "#### Attributes, dimention, variables, Properties, Features, fields"
   ]
  },
  {
   "cell_type": "markdown",
   "metadata": {},
   "source": [
    "## Steps for data cycle\n",
    "- Acquuire\n",
    "- clean\n",
    "- use/reuse\n",
    "- publish\n",
    "- distroy/preserve\n",
    "\n",
    "## ***Structured Data***\n",
    "- Tabular form of data like in CSV\n",
    "## ***UnStructured Data***\n",
    "- Images, Audio ,Video\n",
    "\n",
    "## Data\n",
    "1. Primary Data(Researcher)\n",
    "2. Secondary Data(Data Scientist, Data Analyst)\n",
    "\n",
    "## Data Scientist\n",
    "- Understands the bussiness\n",
    "- Data understand or equsition techniques\n",
    "- data  preparation \n",
    "- data modeling\n",
    "- data evaluation\n",
    "- deploy\n",
    "- moniter\n",
    "- optmize\n",
    "## Data Analyst\n",
    "- Gather required information(Meta Data)\n",
    "- Data collection\n",
    "- Assigned goals\n",
    "- Data Cleaning\n",
    "- EDA\n",
    "- Generate `inference` from analyzing\n",
    "- Model\n",
    "- Deploy\n",
    "- Interpret Results\n",
    "- Data Visualization\n",
    "- Report Writing"
   ]
  },
  {
   "cell_type": "markdown",
   "metadata": {},
   "source": [
    "## Scales Levels of Measurements\n",
    "### Nominal scale(nouns in english Alphabets)\n",
    "- name\n",
    "- color\n",
    "- gender\n",
    "\n",
    "### Ordinal scale(scales of ranking)(ordered)\n",
    "- 1st, 2nd, 3rd\n",
    "- Elder, young, middle\n",
    "- `named` variables + `ordered` variables\n",
    "\n",
    "### Interval\n",
    "- `proportions` + `order` + `proportions` between variables\n",
    "\n",
    "### Ratios\n",
    "- Contains Absolute Zero\n",
    "- Height(6.5)\n",
    "- Weight(70.56)"
   ]
  },
  {
   "cell_type": "markdown",
   "metadata": {},
   "source": [
    "## Data Types\n",
    "\n",
    "### Quantitative Data\n",
    "- Categorical\n",
    "- Numeric Data\n",
    "- Continuous: `float`, `double`\n",
    "#### Further two types\n",
    "- Nominal(string)\n",
    "- Ordinal(object)\n",
    "  \n",
    "### Qualitative Data\n",
    "- Non Numeric\n",
    "- Categorical: `string`, `character`, `factor`\n",
    "#### Further two types\n",
    "- Discret (344) (int)\n",
    "- Continous (343.45) (float)\n",
    "  1. Ordinal Scale\n",
    "  2. Ratios"
   ]
  },
  {
   "cell_type": "markdown",
   "metadata": {},
   "source": [
    "## Types Of `Data Analytics`\n",
    "\n",
    "1. Discriptive( Tell `What` Happened? based from data ) `Exploring the data`\n",
    "2. Diagnostic( `Why` did it happen? ) `Check for pattern in Data`\n",
    "3. Predictive( `What` will happen ) `ML / DL`\n",
    "4. Prescriptive( `How` can we make it happen? ) `Data Driven Decision Making`\n",
    "\n",
    "## Data Life Cicle (Data Scientist)\n",
    "\n",
    "- Aquire Data\n",
    "  1. Create data\n",
    "  2. capture\n",
    "  3. gather\n",
    "- Clean (`80% of time`)\n",
    "  1. Organize data\n",
    "  2. filter\n",
    "  3. Annotate\n",
    "  4. Clean \n",
    "- Use (`20% of time`)\n",
    "  1. Analyze\n",
    "  2. mine\n",
    "  3. model\n",
    "  4. derive decision\n",
    "  5. visualize\n",
    "  6. act upon results\n",
    "  7. Drive output\n",
    "- Publish\n",
    "  1. share\n",
    "  2. workflow\n",
    "  3. portals\n",
    "  4. literature\n",
    "- Preserve/store"
   ]
  },
  {
   "cell_type": "markdown",
   "metadata": {},
   "source": []
  }
 ],
 "metadata": {
  "kernelspec": {
   "display_name": "python_eda",
   "language": "python",
   "name": "python3"
  },
  "language_info": {
   "name": "python",
   "version": "3.11.5"
  }
 },
 "nbformat": 4,
 "nbformat_minor": 2
}
